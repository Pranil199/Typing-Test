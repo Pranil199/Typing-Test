{
 "cells": [
  {
   "cell_type": "code",
   "execution_count": 1,
   "id": "5f1abd2f",
   "metadata": {},
   "outputs": [],
   "source": [
    "import random\n",
    "import time"
   ]
  },
  {
   "cell_type": "markdown",
   "id": "9f276d07",
   "metadata": {},
   "source": [
    "List of sentences for the typing test"
   ]
  },
  {
   "cell_type": "code",
   "execution_count": 2,
   "id": "aec3c94e",
   "metadata": {},
   "outputs": [],
   "source": [
    "sentences = [\n",
    "    \"This is a typing test.\",\n",
    "    \"Type the sentence above this one.\",\n",
    "    \"The quick brown fox jumps over the lazy dog.\",\n",
    "    \"I love to type because it is so much fun!\",\n",
    "    \"Type as fast as you can without making mistakes.\",\n",
    "    \"The rain in Spain falls mainly on the plain.\",\n",
    "    \"The sun rises in the east and sets in the west.\",\n",
    "    \"Programming is a valuable skill in the modern world.\",\n",
    "    \"Practice makes perfect, especially in typing.\",\n",
    "    \"A journey of a thousand miles begins with a single step.\",\n",
    "    \"She sells seashells by the seashore.\",\n",
    "    \"Consistency is key to improving typing speed.\",\n",
    "    \"Reading books can expand your vocabulary.\",\n",
    "    \"Never stop learning, because life never stops teaching.\",\n",
    "    \"Hard work beats talent when talent doesn't work hard.\"\n",
    "]"
   ]
  },
  {
   "cell_type": "markdown",
   "id": "b8790571",
   "metadata": {},
   "source": [
    "Initialize best scores list"
   ]
  },
  {
   "cell_type": "code",
   "execution_count": 3,
   "id": "0e33970b",
   "metadata": {},
   "outputs": [],
   "source": [
    "best_scores = []"
   ]
  },
  {
   "cell_type": "code",
   "execution_count": 4,
   "id": "c1f2af1a",
   "metadata": {},
   "outputs": [],
   "source": [
    "def run_test(sentences, num_sentences=5):\n",
    "    # Randomly select a subset of sentences\n",
    "    selected_sentences = random.sample(sentences, num_sentences)\n",
    "    \n",
    "    # Shuffle the selected sentences\n",
    "    random.shuffle(selected_sentences)\n",
    "\n",
    "    # Start the timer\n",
    "    start_time = time.time()\n",
    "\n",
    "    # Initialize score and word count\n",
    "    score = 0\n",
    "    word_count = 0\n",
    "\n",
    "    # Iterate through each selected sentence\n",
    "    for sentence in selected_sentences:\n",
    "        # Display the sentence to be typed\n",
    "        print(\"\\nType the following sentence:\")\n",
    "        print(sentence)\n",
    "\n",
    "        # Get the user's input\n",
    "        typed_sentence = input(\"Your input: \")\n",
    "\n",
    "        # Split the sentence into words\n",
    "        words = sentence.split()\n",
    "\n",
    "        # Update word count\n",
    "        word_count += len(words)\n",
    "\n",
    "        # Check if the input is correct\n",
    "        if typed_sentence == sentence:\n",
    "            # Increment score\n",
    "            score += 1\n",
    "            print(\"\\033[92mCorrect!\\033[0m\")  # Success message in green\n",
    "        else:\n",
    "            print(\"\\033[91mIncorrect.\\033[0m\")  # Error message in red\n",
    "\n",
    "    # Calculate elapsed time\n",
    "    elapsed_time = time.time() - start_time\n",
    "\n",
    "    # Calculate words per minute (WPM)\n",
    "    wpm = word_count / (elapsed_time / 60)\n",
    "\n",
    "    # Print results\n",
    "    print(f\"\\nYou scored {score} out of {num_sentences} in {elapsed_time:.2f} seconds!\")\n",
    "    print(f\"Your WPM is {wpm:.2f}\")\n",
    "\n",
    "    # Add score to best scores list\n",
    "    best_scores.append(score)\n"
   ]
  },
  {
   "cell_type": "code",
   "execution_count": 5,
   "id": "4fbab3fd",
   "metadata": {},
   "outputs": [],
   "source": [
    "def display_best_scores():\n",
    "    # Display the best scores\n",
    "    print(\"\\nBest scores:\")\n",
    "    if best_scores:\n",
    "        for score in sorted(best_scores, reverse=True):\n",
    "            print(score)\n",
    "    else:\n",
    "        print(\"No scores recorded.\")"
   ]
  },
  {
   "cell_type": "markdown",
   "id": "f5999365",
   "metadata": {},
   "source": [
    "Run the typing test with a specified number of sentences"
   ]
  },
  {
   "cell_type": "code",
   "execution_count": null,
   "id": "cbf3b287",
   "metadata": {},
   "outputs": [
    {
     "name": "stdout",
     "output_type": "stream",
     "text": [
      "\n",
      "Type the following sentence:\n",
      "Never stop learning, because life never stops teaching.\n",
      "Your input: \n",
      "\u001b[91mIncorrect.\u001b[0m\n",
      "\n",
      "Type the following sentence:\n",
      "The rain in Spain falls mainly on the plain.\n"
     ]
    }
   ],
   "source": [
    "run_test(sentences, num_sentences=5)"
   ]
  },
  {
   "cell_type": "markdown",
   "id": "75b22b62",
   "metadata": {},
   "source": [
    "Display best scores"
   ]
  },
  {
   "cell_type": "code",
   "execution_count": null,
   "id": "8d954d10",
   "metadata": {},
   "outputs": [],
   "source": [
    "display_best_scores()"
   ]
  },
  {
   "cell_type": "code",
   "execution_count": null,
   "id": "01b9adc3",
   "metadata": {},
   "outputs": [],
   "source": []
  }
 ],
 "metadata": {
  "kernelspec": {
   "display_name": "Python 3 (ipykernel)",
   "language": "python",
   "name": "python3"
  },
  "language_info": {
   "codemirror_mode": {
    "name": "ipython",
    "version": 3
   },
   "file_extension": ".py",
   "mimetype": "text/x-python",
   "name": "python",
   "nbconvert_exporter": "python",
   "pygments_lexer": "ipython3",
   "version": "3.11.5"
  }
 },
 "nbformat": 4,
 "nbformat_minor": 5
}
